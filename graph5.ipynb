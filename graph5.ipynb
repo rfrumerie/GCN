{
 "cells": [
  {
   "cell_type": "code",
   "execution_count": 131,
   "metadata": {},
   "outputs": [
    {
     "data": {
      "text/plain": [
       "<torch._C.Generator at 0x252472162f0>"
      ]
     },
     "execution_count": 131,
     "metadata": {},
     "output_type": "execute_result"
    }
   ],
   "source": [
    "import dgl\n",
    "from dgl.data import DGLDataset\n",
    "import torch\n",
    "import os\n",
    "import pandas as pd\n",
    "from sklearn import preprocessing\n",
    "from sklearn.metrics import confusion_matrix, recall_score, precision_score, average_precision_score\n",
    "from sklearn.utils import class_weight\n",
    "from sklearn.manifold import TSNE\n",
    "import numpy as np\n",
    "import matplotlib.pyplot as plt\n",
    "import dgl.function as fn\n",
    "from ignite.metrics.recall import Recall\n",
    "\n",
    "import torch.nn as nn\n",
    "import torch.nn.functional as F\n",
    "\n",
    "import warnings\n",
    "warnings.simplefilter(action='ignore', category=FutureWarning)\n",
    "\n",
    "import random\n",
    "random.seed(1)\n",
    "np.random.seed(1)\n",
    "torch.manual_seed(1)"
   ]
  },
  {
   "cell_type": "code",
   "execution_count": 132,
   "metadata": {},
   "outputs": [],
   "source": [
    "class AMLDataset(DGLDataset):\n",
    "    def __init__(self):\n",
    "        super().__init__(name='AMLDataset')\n",
    "\n",
    "    def process(self):\n",
    "        nodes_data = pd.read_csv (r\"C:\\Users\\ricka\\Documents\\data\\done\\accounts_redone_anon3.csv\")\n",
    "        edges_data = pd.read_csv (r\"C:\\Users\\ricka\\Documents\\data\\done\\transactions_redone_anon3.csv\")\n",
    "        \n",
    "        sc = preprocessing.StandardScaler()\n",
    "        #nodes_data[\"acct_id\"] = sc.fit_transform(np.array(nodes_data[\"acct_id\"]).reshape(-1, 1))\n",
    "        nodes_data[\"initial_deposit\"] = sc.fit_transform(np.array(nodes_data[\"initial_deposit\"]).reshape(-1, 1))\n",
    "        nodes_data[\"in_amt_mean\"] = sc.fit_transform(np.array(nodes_data[\"in_amt_mean\"]).reshape(-1, 1))\n",
    "        nodes_data[\"in_amt_var\"] = sc.fit_transform(np.array(nodes_data[\"in_amt_var\"]).reshape(-1, 1))\n",
    "        nodes_data[\"out_amt_mean\"] = sc.fit_transform(np.array(nodes_data[\"out_amt_mean\"]).reshape(-1, 1))\n",
    "        nodes_data[\"out_amt_var\"] = sc.fit_transform(np.array(nodes_data[\"out_amt_var\"]).reshape(-1, 1))\n",
    "        nodes_data[\"out-going_trans\"] = sc.fit_transform(np.array(nodes_data[\"out-going_trans\"]).reshape(-1, 1))\n",
    "        nodes_data[\"in-going_trans\"] = sc.fit_transform(np.array(nodes_data[\"in-going_trans\"]).reshape(-1, 1))\n",
    "        nodes_data[\"unique_out-going_trans\"] = sc.fit_transform(np.array(nodes_data[\"unique_out-going_trans\"]).reshape(-1, 1))\n",
    "        nodes_data[\"unique_in-going_trans\"] = sc.fit_transform(np.array(nodes_data[\"unique_in-going_trans\"]).reshape(-1, 1))\n",
    "        \n",
    "        #node_features = torch.from_numpy(np.array([nodes_data[\"acct_id\"]]).transpose())\n",
    "        node_features = torch.from_numpy(np.array([nodes_data[\"initial_deposit\"],\n",
    "                nodes_data[\"in_amt_mean\"], nodes_data[\"in_amt_var\"], nodes_data[\"out_amt_mean\"],\n",
    "                nodes_data[\"out_amt_var\"], nodes_data[\"out-going_trans\"], nodes_data[\"in-going_trans\"],\n",
    "                nodes_data[\"unique_in-going_trans\"], nodes_data[\"unique_out-going_trans\"]]).transpose())\n",
    "        \"\"\"\n",
    "        node_features = torch.from_numpy(np.array([nodes_data[\"initial_deposit\"], nodes_data[\"acct_id\"],\n",
    "                        nodes_data[\"in_amt_mean\"], nodes_data[\"in_amt_var\"], nodes_data[\"out_amt_mean\"],\n",
    "                        nodes_data[\"out_amt_var\"], nodes_data[\"out-going_trans\"], nodes_data[\"in-going_trans\"],\n",
    "                        nodes_data[\"unique_in-going_trans\"], nodes_data[\"unique_out-going_trans\"]]).transpose())\n",
    "        \"\"\"\n",
    "        \n",
    "        node_labels = torch.from_numpy(nodes_data[\"prior_sar_count\"].to_numpy()*1).type(torch.LongTensor)\n",
    "        le = preprocessing.LabelEncoder()\n",
    "        edges_data[\"tran_timestamp\"] = le.fit_transform(edges_data[\"tran_timestamp\"].astype(\"str\"))\n",
    "        #edges_data[\"is_sar\"] = edges_data[\"is_sar\"].apply(lambda x: 1 if x == True else -1)\n",
    "        edges_data[\"is_sar\"] = edges_data[\"is_sar\"]*1\n",
    "        \n",
    "        edges_data[\"base_amt\"] = sc.fit_transform(np.array(edges_data[\"base_amt\"]).reshape(-1, 1))\n",
    "        #edges_data[\"tran_id\"] = sc.fit_transform(np.array(edges_data[\"tran_id\"]).reshape(-1, 1))\n",
    "        edges_data[\"tran_timestamp\"] = sc.fit_transform(np.array(edges_data[\"tran_timestamp\"]).reshape(-1, 1))\n",
    "        edges_data[\"orig_amt_before\"] = sc.fit_transform(np.array(edges_data[\"orig_amt_before\"]).reshape(-1, 1))\n",
    "        edges_data[\"orig_amt_after\"] = sc.fit_transform(np.array(edges_data[\"orig_amt_after\"]).reshape(-1, 1))\n",
    "        edges_data[\"bene_amt_before\"] = sc.fit_transform(np.array(edges_data[\"bene_amt_before\"]).reshape(-1, 1))\n",
    "        edges_data[\"bene_amt_after\"] = sc.fit_transform(np.array(edges_data[\"bene_amt_after\"]).reshape(-1, 1))\n",
    "        \n",
    "        \"\"\"\n",
    "        edge_features = torch.from_numpy(np.array([edges_data[\"tran_id\"], edges_data[\"base_amt\"],\n",
    "                        edges_data[\"tran_timestamp\"], edges_data[\"orig_amt_before\"], edges_data[\"orig_amt_after\"],\n",
    "                        edges_data[\"bene_amt_before\"], edges_data[\"bene_amt_after\"]]).transpose())\n",
    "        \"\"\"\n",
    "        \n",
    "        edge_features = torch.from_numpy(np.array([edges_data[\"base_amt\"],\n",
    "                        edges_data[\"tran_timestamp\"], edges_data[\"orig_amt_before\"], edges_data[\"orig_amt_after\"],\n",
    "                        edges_data[\"bene_amt_before\"], edges_data[\"bene_amt_after\"]]).transpose())        \n",
    "        #edge_features = torch.from_numpy(np.array([edges_data[\"tran_id\"], edges_data[\"base_amt\"], edges_data[\"tran_timestamp\"],\n",
    "                                                   #edges_data[\"is_sar\"], edges_data[\"alert_id\"]]).transpose())\n",
    "        edges_src = torch.from_numpy(edges_data['orig_acct'].to_numpy())\n",
    "        edges_dst = torch.from_numpy(edges_data['bene_acct'].to_numpy())\n",
    "\n",
    "        self.graph = dgl.graph((edges_src, edges_dst), num_nodes=nodes_data.shape[0])\n",
    "        self.graph.ndata['node_feat'] = node_features\n",
    "        self.graph.ndata['label'] = node_labels\n",
    "        self.graph.edata['edge_feat'] = edge_features\n",
    "\n",
    "        # If your dataset is a node classification dataset, you will need to assign\n",
    "        # masks indicating whether a node belongs to training, validation, and test set.\n",
    "        n_nodes = nodes_data.shape[0]\n",
    "        n_train = int(n_nodes * 0.6) \n",
    "        n_val = int(n_nodes * 0.2)\n",
    "        train_mask = torch.zeros(n_nodes, dtype=torch.bool)\n",
    "        val_mask = torch.zeros(n_nodes, dtype=torch.bool)\n",
    "        test_mask = torch.zeros(n_nodes, dtype=torch.bool)\n",
    "        train_mask[:n_train] = True\n",
    "        val_mask[n_train:n_train + n_val] = True\n",
    "        test_mask[n_train + n_val:] = True\n",
    "        self.graph.ndata['train_mask'] = train_mask\n",
    "        self.graph.ndata['val_mask'] = val_mask\n",
    "        self.graph.ndata['test_mask'] = test_mask\n",
    "\n",
    "    def __getitem__(self, i):                     \n",
    "        return self.graph\n",
    "\n",
    "    def __len__(self):\n",
    "        return 1\n",
    "\n",
    "dataset = AMLDataset()\n",
    "g = dataset[0]\n",
    "#g = dgl.add_self_loop(g)\n",
    "g = g.to('cuda')"
   ]
  },
  {
   "cell_type": "code",
   "execution_count": 133,
   "metadata": {},
   "outputs": [],
   "source": [
    "class GNNLayer2(nn.Module):\n",
    "    def __init__(self, ndim_in, edims, ndim_out, activation):\n",
    "        super(GNNLayer2, self).__init__()\n",
    "        self.W_msg = nn.Linear(ndim_in + edims, ndim_out)\n",
    "        self.W_apply = nn.Linear(ndim_out + ndim_in, ndim_out)\n",
    "        self.activation = activation\n",
    "        \n",
    "    def message_func(self, edges):\n",
    "        return {'m': F.relu(self.W_msg(torch.cat([edges.src['h'].float(),\n",
    "                                                  edges.data['h'].float()], 1)))}\n",
    "    \n",
    "    def forward(self, g, nfeats, efeats):\n",
    "        with g.local_scope():\n",
    "            g.ndata[\"h\"] = nfeats\n",
    "            g.edata[\"h\"] = efeats\n",
    "            g.update_all(self.message_func, fn.sum('m', 'h_neigh'))\n",
    "            g.ndata['h'] = F.relu(self.W_apply(torch.cat([g.ndata['h'].float(),\n",
    "                                                          g.ndata['h_neigh'].float()], 1)))\n",
    "            return g.ndata['h']\n",
    "\n",
    "class GCN2(nn.Module):\n",
    "    def __init__(self, ndim_in, ndim_out, edim, activation, dropout):\n",
    "        super(GCN2, self).__init__()\n",
    "        self.layers = nn.ModuleList()\n",
    "        self.layers.append(GNNLayer2(ndim_in, edim, 60, activation))\n",
    "        #self.layers.append(GNNLayer2(35, edim, 35, activation))\n",
    "        self.layers.append(GNNLayer2(60, edim, ndim_out, activation))\n",
    "        self.dropout = nn.Dropout(p=dropout)\n",
    "    def forward(self, g, nfeats, efeats):\n",
    "        for i, layer in enumerate(self.layers):\n",
    "            if i != 0:\n",
    "                nfeats = self.dropout(nfeats)\n",
    "            nfeats = layer(g, nfeats, efeats)\n",
    "        n = nfeats\n",
    "        #n = nfeats.sum(1)\n",
    "        return n "
   ]
  },
  {
   "cell_type": "code",
   "execution_count": 134,
   "metadata": {},
   "outputs": [
    {
     "name": "stdout",
     "output_type": "stream",
     "text": [
      "0\n",
      "20\n",
      "40\n",
      "60\n",
      "80\n",
      "100\n",
      "120\n",
      "140\n",
      "160\n",
      "180\n",
      "200\n",
      "220\n",
      "240\n",
      "260\n",
      "280\n"
     ]
    }
   ],
   "source": [
    "ndim_in = 9\n",
    "ndim_out = 2 #num_classes\n",
    "edim = 6\n",
    "dropout = 0\n",
    "model = GCN2(ndim_in, ndim_out, edim, F.relu, dropout).to(\"cuda\")\n",
    "#model = GCN2(ndim_in, ndim_out, edim, F.relu, dropout)\n",
    "nfeats = g.ndata[\"node_feat\"]\n",
    "efeats = g.edata[\"edge_feat\"]\n",
    "\n",
    "#one_hot_labels = F.one_hot(g.ndata[\"label\"]).float()\n",
    "\n",
    "#bygg träningsloopen\n",
    "optimizer = torch.optim.Adam(model.parameters(), lr=0.001)\n",
    "labels = g.ndata[\"label\"].cpu().numpy()\n",
    "#weights = class_weight.compute_class_weight('balanced', np.unique(labels), labels)\n",
    "weights = np.array([1, 40])\n",
    "weights = torch.from_numpy(weights).float().to(\"cuda\")\n",
    "\n",
    "loss_history = []\n",
    "loss_val_history = []\n",
    "r_history = []\n",
    "r_val_history = []\n",
    "p_history = []\n",
    "p_val_history = []\n",
    "model.train()\n",
    "total = 300\n",
    "\n",
    "def recall(y_pred, labels):\n",
    "    y_pred = y_pred.cpu()\n",
    "    la = labels.cpu()\n",
    "    return torch.tensor(recall_score(la,y_pred))\n",
    "\n",
    "def precision(y_pred, labels):\n",
    "    y_pred = y_pred.cpu()\n",
    "    la = labels.cpu()\n",
    "    return torch.tensor(precision_score(la, y_pred))\n",
    "\n",
    "for epoch in range(total):\n",
    "    optimizer.zero_grad()\n",
    "    out = model(g, nfeats, efeats)\n",
    "    loss = F.cross_entropy(out[g.ndata[\"train_mask\"]], g.ndata[\"label\"][g.ndata[\"train_mask\"]], weight=weights)\n",
    "    loss.backward()\n",
    "    optimizer.step()\n",
    "    \n",
    "    loss_val = F.cross_entropy(out[g.ndata[\"val_mask\"]], g.ndata[\"label\"][g.ndata[\"val_mask\"]], weight=weights)\n",
    "    running_loss_val = loss_val.item()\n",
    "    loss_val_history.append(running_loss_val)\n",
    "    \n",
    "    running_loss = loss.item()\n",
    "    loss_history.append(running_loss)\n",
    "    \n",
    "    _, y_pred = out.max(dim=1)\n",
    "    r = recall(y_pred[g.ndata[\"train_mask\"]], g.ndata[\"label\"][g.ndata[\"train_mask\"]])\n",
    "    r_val = recall(y_pred[g.ndata[\"val_mask\"]], g.ndata[\"label\"][g.ndata[\"val_mask\"]])\n",
    "    r_history.append(r)\n",
    "    r_val_history.append(r_val)\n",
    "    \n",
    "    p = precision(y_pred[g.ndata[\"train_mask\"]], g.ndata[\"label\"][g.ndata[\"train_mask\"]])\n",
    "    p_val = precision(y_pred[g.ndata[\"val_mask\"]], g.ndata[\"label\"][g.ndata[\"val_mask\"]])\n",
    "    p_history.append(p)\n",
    "    p_val_history.append(p_val)\n",
    "    \n",
    "    if (epoch % 20 == 0):\n",
    "        print(epoch)"
   ]
  },
  {
   "cell_type": "code",
   "execution_count": 135,
   "metadata": {},
   "outputs": [
    {
     "name": "stdout",
     "output_type": "stream",
     "text": [
      "Accuracy: 0.9900\n",
      "Average precision-recall score: 0.72\n",
      "[[3856   37]\n",
      " [   3  104]]\n"
     ]
    },
    {
     "data": {
      "image/png": "[encoded data removed]",
      "text/plain": [
       "<Figure size 432x288 with 1 Axes>"
      ]
     },
     "metadata": {
      "needs_background": "light"
     },
     "output_type": "display_data"
    },
    {
     "data": {
      "image/png": "[encoded data removed]",
      "text/plain": [
       "<Figure size 432x288 with 1 Axes>"
      ]
     },
     "metadata": {
      "needs_background": "light"
     },
     "output_type": "display_data"
    },
    {
     "data": {
      "text/plain": [
       "Text(0, 0.5, 'Precision')"
      ]
     },
     "execution_count": 135,
     "metadata": {},
     "output_type": "execute_result"
    },
    {
     "data": {
      "image/png": "[encoded data removed]",
      "text/plain": [
       "<Figure size 432x288 with 1 Axes>"
      ]
     },
     "metadata": {
      "needs_background": "light"
     },
     "output_type": "display_data"
    }
   ],
   "source": [
    "model.eval()\n",
    "#_, pred = model(g, nfeats, efeats).max(dim=1)\n",
    "_, pred = F.softmax(model(g, nfeats, efeats), dim=1).max(dim=1)\n",
    "\n",
    "correct = int(pred[g.ndata[\"test_mask\"]].eq(g.ndata[\"label\"][g.ndata[\"test_mask\"]]).sum().item())\n",
    "y_test = g.ndata[\"label\"][g.ndata[\"test_mask\"]].cpu()\n",
    "y_true = pred[g.ndata[\"test_mask\"]].cpu()\n",
    "average_precision = average_precision_score(y_test, y_true)\n",
    "acc = correct / len(g.ndata[\"label\"][g.ndata[\"test_mask\"]])\n",
    "print('Accuracy: {:.4f}'.format(acc))\n",
    "print('Average precision-recall score: {0:0.2f}'.format(average_precision))\n",
    "print(confusion_matrix(g.ndata[\"label\"][g.ndata[\"test_mask\"]].cpu(), pred[g.ndata[\"test_mask\"]].cpu().detach()))\n",
    "training = plt.plot(list(range(total)), loss_history, label=\"training\")\n",
    "validation = plt.plot(list(range(total)), loss_val_history, label=\"validation\")\n",
    "plt.legend(handles=[training[0], validation[0]])\n",
    "plt.xlabel(\"Epochs\")\n",
    "plt.ylabel(\"Loss\")\n",
    "plt.show()\n",
    "plt.plot(list(range(total)), r_history)\n",
    "plt.plot(list(range(total)), r_val_history)\n",
    "plt.legend([\"Training\", \"Validation\"])\n",
    "plt.xlabel(\"Epochs\")\n",
    "plt.ylabel(\"Recall\")\n",
    "plt.show()\n",
    "plt.plot(list(range(total)), p_history)\n",
    "plt.plot(list(range(total)), p_val_history)\n",
    "plt.legend([\"Training\", \"Validation\"])\n",
    "plt.xlabel(\"Epochs\")\n",
    "plt.ylabel(\"Precision\")"
   ]
  },
  {
   "cell_type": "code",
   "execution_count": 136,
   "metadata": {},
   "outputs": [
    {
     "data": {
      "text/plain": [
       "'\\np = F.softmax(model(g, nfeats, efeats),dim=1)[:,1]\\n\\nalpha = [0.6, 0.5, 0.4, 0.3, 0.2, 0.1]\\nfp = np.zeros(len(alpha))\\nfn = np.zeros(len(alpha))\\n\\nfor i in range(len(alpha)):\\n    pr = (p>alpha[i]).float()\\n    cm = confusion_matrix(g.ndata[\"label\"][g.ndata[\"test_mask\"]].cpu(), pr[g.ndata[\"test_mask\"]].cpu())\\n    fp[i] = cm[0, 1]\\n    fn[i] = cm[1, 0]\\n#print(confusion_matrix(g.ndata[\"label\"][g.ndata[\"test_mask\"]].cpu(), pr[g.ndata[\"test_mask\"]].cpu()))\\nplt.plot(alpha, fp)\\nplt.plot(alpha, fn)\\nplt.xlabel(\"Threshold\")\\nplt.ylabel(\"Number of Miss-classifications\")\\nplt.legend([\"False Positives\", \"False Negatives\"])\\nplt.show()\\n'"
      ]
     },
     "execution_count": 136,
     "metadata": {},
     "output_type": "execute_result"
    }
   ],
   "source": [
    "#Threshold\n",
    "\"\"\"\n",
    "p = F.softmax(model(g, nfeats, efeats),dim=1)[:,1]\n",
    "\n",
    "alpha = [0.6, 0.5, 0.4, 0.3, 0.2, 0.1]\n",
    "fp = np.zeros(len(alpha))\n",
    "fn = np.zeros(len(alpha))\n",
    "\n",
    "for i in range(len(alpha)):\n",
    "    pr = (p>alpha[i]).float()\n",
    "    cm = confusion_matrix(g.ndata[\"label\"][g.ndata[\"test_mask\"]].cpu(), pr[g.ndata[\"test_mask\"]].cpu())\n",
    "    fp[i] = cm[0, 1]\n",
    "    fn[i] = cm[1, 0]\n",
    "#print(confusion_matrix(g.ndata[\"label\"][g.ndata[\"test_mask\"]].cpu(), pr[g.ndata[\"test_mask\"]].cpu()))\n",
    "plt.plot(alpha, fp)\n",
    "plt.plot(alpha, fn)\n",
    "plt.xlabel(\"Threshold\")\n",
    "plt.ylabel(\"Number of Miss-classifications\")\n",
    "plt.legend([\"False Positives\", \"False Negatives\"])\n",
    "plt.show()\n",
    "\"\"\""
   ]
  },
  {
   "cell_type": "code",
   "execution_count": 137,
   "metadata": {},
   "outputs": [
    {
     "data": {
      "text/plain": [
       "'\\nwe = [8, 12, 16, 20, 24, 28, 32, 36, 40, 44, 48, 52, 56, 60, 64, 68]\\nw = range(8, 72, 4)\\nf_p = [14, 8, 13, 15, 10, 10, 10, 11, 10, 10, 12, 12, 13, 13, 14, 13]\\nf_n = [6, 5, 6, 5, 6, 4, 4, 4, 3, 3, 3, 4, 3, 4, 3, 3]\\nFP = plt.plot(w, f_p, label=\"False Positives\")\\nFN = plt.plot(w, f_n, label=\"False Negatives\")\\nEX = plt.plot([25.56,25.56], [0,15], color=\"r\", label=\"Proposed Ratio\")\\nplt.xlabel(\"Weight Ratio\")\\nplt.ylabel(\"Number of Miss-classifications\")\\nplt.legend(handles=[FP[0], FN[0], EX[0]])\\n'"
      ]
     },
     "execution_count": 137,
     "metadata": {},
     "output_type": "execute_result"
    }
   ],
   "source": [
    "#exploring weights\n",
    "\"\"\"\n",
    "we = [8, 12, 16, 20, 24, 28, 32, 36, 40, 44, 48, 52, 56, 60, 64, 68]\n",
    "w = range(8, 72, 4)\n",
    "f_p = [14, 8, 13, 15, 10, 10, 10, 11, 10, 10, 12, 12, 13, 13, 14, 13]\n",
    "f_n = [6, 5, 6, 5, 6, 4, 4, 4, 3, 3, 3, 4, 3, 4, 3, 3]\n",
    "FP = plt.plot(w, f_p, label=\"False Positives\")\n",
    "FN = plt.plot(w, f_n, label=\"False Negatives\")\n",
    "EX = plt.plot([25.56,25.56], [0,15], color=\"r\", label=\"Proposed Ratio\")\n",
    "plt.xlabel(\"Weight Ratio\")\n",
    "plt.ylabel(\"Number of Miss-classifications\")\n",
    "plt.legend(handles=[FP[0], FN[0], EX[0]])\n",
    "\"\"\""
   ]
  },
  {
   "cell_type": "code",
   "execution_count": 138,
   "metadata": {},
   "outputs": [
    {
     "data": {
      "text/plain": [
       "'\\nwe = [8, 12, 16, 20, 24, 28, 32, 36, 40, 44, 48, 52, 56, 60, 64, 68]\\nw = range(10, 75, 5)\\nf_p = [44, 15, 15, 0, 25, 0, 9, 0, 13, 8, 10, 13, 0]\\nf_n = [7, 7, 3, 107, 25, 107, 4, 107, 5, 7, 4, 8, 107]\\nFP = plt.plot(w, f_p, label=\"False Positives\")\\nFN = plt.plot(w, f_n, label=\"False Negatives\")\\nplt.xlabel(\"Layer Size\")\\nplt.ylabel(\"Number of Miss-classifications\")\\nplt.legend(handles=[FP[0], FN[0]])\\nplt.show()\\n#remove non conv\\nw = [10, 15, 20, 30, 40, 50, 55, 60, 65]\\nf_p = [44, 15, 15, 25, 9, 13, 8, 10, 13]\\nf_n = [7, 7, 3, 25, 4, 5, 7, 4, 8]\\nFP = plt.plot(w, f_p, label=\"False Positives\")\\nFN = plt.plot(w, f_n, label=\"False Negatives\")\\nplt.xlabel(\"Layer Size\")\\nplt.ylabel(\"Number of Miss-classifications\")\\nplt.legend(handles=[FP[0], FN[0]])\\n'"
      ]
     },
     "execution_count": 138,
     "metadata": {},
     "output_type": "execute_result"
    }
   ],
   "source": [
    "#exploring layer size\n",
    "\"\"\"\n",
    "we = [8, 12, 16, 20, 24, 28, 32, 36, 40, 44, 48, 52, 56, 60, 64, 68]\n",
    "w = range(10, 75, 5)\n",
    "f_p = [44, 15, 15, 0, 25, 0, 9, 0, 13, 8, 10, 13, 0]\n",
    "f_n = [7, 7, 3, 107, 25, 107, 4, 107, 5, 7, 4, 8, 107]\n",
    "FP = plt.plot(w, f_p, label=\"False Positives\")\n",
    "FN = plt.plot(w, f_n, label=\"False Negatives\")\n",
    "plt.xlabel(\"Layer Size\")\n",
    "plt.ylabel(\"Number of Miss-classifications\")\n",
    "plt.legend(handles=[FP[0], FN[0]])\n",
    "plt.show()\n",
    "#remove non conv\n",
    "w = [10, 15, 20, 30, 40, 50, 55, 60, 65]\n",
    "f_p = [44, 15, 15, 25, 9, 13, 8, 10, 13]\n",
    "f_n = [7, 7, 3, 25, 4, 5, 7, 4, 8]\n",
    "FP = plt.plot(w, f_p, label=\"False Positives\")\n",
    "FN = plt.plot(w, f_n, label=\"False Negatives\")\n",
    "plt.xlabel(\"Layer Size\")\n",
    "plt.ylabel(\"Number of Miss-classifications\")\n",
    "plt.legend(handles=[FP[0], FN[0]])\n",
    "\"\"\""
   ]
  },
  {
   "cell_type": "code",
   "execution_count": 139,
   "metadata": {},
   "outputs": [
    {
     "data": {
      "text/plain": [
       "'\\nwe = [0.0001, 0.0005, 0.0010, 0.0015, 0.0020, 0.0025, 0.0030, 0.0035, 0.0040, 0.0045, 0.0050, 0.0055, 0.0060, 0.0065, 0.0070, 0.0075, 0.0080]\\nf_p = [422, 53, 17, 10, 6, 3, 14, 26, 25, 25, 3, 1, 12, 1, 20, 1, 0]\\nf_n = [20, 4, 5, 4, 4, 4, 2, 2, 2, 3, 2, 3, 2, 4, 2, 23, 107]\\nFP = plt.plot(we, f_p, label=\"False Positives\")\\nFN = plt.plot(we, f_n, label=\"False Negatives\")\\nplt.xlabel(\"Learning Rate\")\\nplt.ylabel(\"Number of Miss-classifications\")\\naxes = plt.gca()\\naxes.set_ylim([0,150])\\nplt.legend(handles=[FP[0], FN[0]])\\n'"
      ]
     },
     "execution_count": 139,
     "metadata": {},
     "output_type": "execute_result"
    }
   ],
   "source": [
    "#learning rate\n",
    "\"\"\"\n",
    "we = [0.0001, 0.0005, 0.0010, 0.0015, 0.0020, 0.0025, 0.0030, 0.0035, 0.0040, 0.0045, 0.0050, 0.0055, 0.0060, 0.0065, 0.0070, 0.0075, 0.0080]\n",
    "f_p = [422, 53, 17, 10, 6, 3, 14, 26, 25, 25, 3, 1, 12, 1, 20, 1, 0]\n",
    "f_n = [20, 4, 5, 4, 4, 4, 2, 2, 2, 3, 2, 3, 2, 4, 2, 23, 107]\n",
    "FP = plt.plot(we, f_p, label=\"False Positives\")\n",
    "FN = plt.plot(we, f_n, label=\"False Negatives\")\n",
    "plt.xlabel(\"Learning Rate\")\n",
    "plt.ylabel(\"Number of Miss-classifications\")\n",
    "axes = plt.gca()\n",
    "axes.set_ylim([0,150])\n",
    "plt.legend(handles=[FP[0], FN[0]])\n",
    "\"\"\""
   ]
  },
  {
   "cell_type": "code",
   "execution_count": 140,
   "metadata": {},
   "outputs": [
    {
     "data": {
      "text/plain": [
       "'\\nwe = [0, 0.1, 0.2, 0.3, 0.4, 0.5, 0.6, 0.7]\\nf_p = [10, 15, 21, 21, 26, 36, 48, 64]\\nf_n = [4, 4, 4, 5, 4, 4, 4, 5]\\nFP = plt.plot(we, f_p, label=\"False Positives\")\\nFN = plt.plot(we, f_n, label=\"False Negatives\")\\nplt.xlabel(\"Dropout\")\\nplt.ylabel(\"Number of Miss-classifications\")\\nplt.legend(handles=[FP[0], FN[0]])\\n'"
      ]
     },
     "execution_count": 140,
     "metadata": {},
     "output_type": "execute_result"
    }
   ],
   "source": [
    "#dropout\n",
    "\"\"\"\n",
    "we = [0, 0.1, 0.2, 0.3, 0.4, 0.5, 0.6, 0.7]\n",
    "f_p = [10, 15, 21, 21, 26, 36, 48, 64]\n",
    "f_n = [4, 4, 4, 5, 4, 4, 4, 5]\n",
    "FP = plt.plot(we, f_p, label=\"False Positives\")\n",
    "FN = plt.plot(we, f_n, label=\"False Negatives\")\n",
    "plt.xlabel(\"Dropout\")\n",
    "plt.ylabel(\"Number of Miss-classifications\")\n",
    "plt.legend(handles=[FP[0], FN[0]])\n",
    "\"\"\""
   ]
  },
  {
   "cell_type": "code",
   "execution_count": 141,
   "metadata": {},
   "outputs": [
    {
     "data": {
      "text/plain": [
       "'\\nlabels = g.edata[\"edge_feat\"][:,2].detach().cpu().numpy()\\nlabels = pd.DataFrame(labels)\\nlabels[\"l\"] = labels\\ndel labels[0]\\n#idx = labels.index[labels[\"l\"] == 1].values\\ntrue_labels = labels.loc[labels[\"l\"] == 1]\\nfalse_labels = labels.loc[labels[\"l\"] == 0]\\nfalse_labels_red = false_labels.sample(n=len(true_labels))\\nlabels_red = pd.concat([true_labels, false_labels_red])\\n\\nedges = torch.cat([g.edata[\"edge_feat\"][:,0:2], g.edata[\"edge_feat\"][:,3:8]], 1)\\nedges = edges.detach().cpu().numpy()\\nidx = labels_red.index.values\\nedges_red = edges[idx]\\nlabels_red = np.array(labels_red)\\n\\ntrans = TSNE(n_components=2)\\nX_trans = trans.fit_transform(edges_red)\\n\\nfig, ax = plt.subplots(figsize=(7, 7))\\nax.scatter(\\n    X_trans[:, 0],\\n    X_trans[:, 1],\\n    c=labels_red,\\n    cmap=\"jet\",\\n    alpha=0.7,)\\nax.set(\\n    aspect=\"equal\",\\n    xlabel=\"$X_1$\",\\n    ylabel=\"$X_2$\",\\n    title=\"Visualization of the edges in the data set\",)\\n#plt.legend([\"Non Fraudulent\", \"Fraudulent\"])\\n#ax.legend(labels_red, [\"Non Fraudulent\", \"Fraudulent\"])\\n'"
      ]
     },
     "execution_count": 141,
     "metadata": {},
     "output_type": "execute_result"
    }
   ],
   "source": [
    "#t-SNE\n",
    "\"\"\"\n",
    "labels = g.edata[\"edge_feat\"][:,2].detach().cpu().numpy()\n",
    "labels = pd.DataFrame(labels)\n",
    "labels[\"l\"] = labels\n",
    "del labels[0]\n",
    "#idx = labels.index[labels[\"l\"] == 1].values\n",
    "true_labels = labels.loc[labels[\"l\"] == 1]\n",
    "false_labels = labels.loc[labels[\"l\"] == 0]\n",
    "false_labels_red = false_labels.sample(n=len(true_labels))\n",
    "labels_red = pd.concat([true_labels, false_labels_red])\n",
    "\n",
    "edges = torch.cat([g.edata[\"edge_feat\"][:,0:2], g.edata[\"edge_feat\"][:,3:8]], 1)\n",
    "edges = edges.detach().cpu().numpy()\n",
    "idx = labels_red.index.values\n",
    "edges_red = edges[idx]\n",
    "labels_red = np.array(labels_red)\n",
    "\n",
    "trans = TSNE(n_components=2)\n",
    "X_trans = trans.fit_transform(edges_red)\n",
    "\n",
    "fig, ax = plt.subplots(figsize=(7, 7))\n",
    "ax.scatter(\n",
    "    X_trans[:, 0],\n",
    "    X_trans[:, 1],\n",
    "    c=labels_red,\n",
    "    cmap=\"jet\",\n",
    "    alpha=0.7,)\n",
    "ax.set(\n",
    "    aspect=\"equal\",\n",
    "    xlabel=\"$X_1$\",\n",
    "    ylabel=\"$X_2$\",\n",
    "    title=\"Visualization of the edges in the data set\",)\n",
    "#plt.legend([\"Non Fraudulent\", \"Fraudulent\"])\n",
    "#ax.legend(labels_red, [\"Non Fraudulent\", \"Fraudulent\"])\n",
    "\"\"\""
   ]
  },
  {
   "cell_type": "code",
   "execution_count": 142,
   "metadata": {},
   "outputs": [
    {
     "data": {
      "text/plain": [
       "'\\nlabels = g.ndata[\"label\"].detach().cpu().numpy()\\nlabels = pd.DataFrame(labels)\\nlabels[\"l\"] = labels\\ndel labels[0]\\n#idx = labels.index[labels[\"l\"] == 1].values\\ntrue_labels = labels.loc[labels[\"l\"] == 1]\\nfalse_labels = labels.loc[labels[\"l\"] == 0]\\nfalse_labels_red = false_labels.sample(n=len(true_labels))\\nlabels_red = pd.concat([true_labels, false_labels_red])\\n\\nnodes = g.ndata[\"node_feat\"].detach().cpu().numpy()\\nidx = labels_red.index.values\\nnodes_red = edges[idx]\\nlabels_red = np.array(labels_red)\\n\\ntrans = TSNE(n_components=2)\\nX_trans = trans.fit_transform(nodes_red)\\n\\nfig, ax = plt.subplots(figsize=(7, 7))\\nax.scatter(\\n    X_trans[:, 0],\\n    X_trans[:, 1],\\n    c=labels_red,\\n    cmap=\"jet\",\\n    alpha=0.7,)\\nax.set(\\n    aspect=\"equal\",\\n    xlabel=\"$X_1$\",\\n    ylabel=\"$X_2$\",\\n    title=\"Visualization of the nodes in the data set\",)\\n'"
      ]
     },
     "execution_count": 142,
     "metadata": {},
     "output_type": "execute_result"
    }
   ],
   "source": [
    "\"\"\"\n",
    "labels = g.ndata[\"label\"].detach().cpu().numpy()\n",
    "labels = pd.DataFrame(labels)\n",
    "labels[\"l\"] = labels\n",
    "del labels[0]\n",
    "#idx = labels.index[labels[\"l\"] == 1].values\n",
    "true_labels = labels.loc[labels[\"l\"] == 1]\n",
    "false_labels = labels.loc[labels[\"l\"] == 0]\n",
    "false_labels_red = false_labels.sample(n=len(true_labels))\n",
    "labels_red = pd.concat([true_labels, false_labels_red])\n",
    "\n",
    "nodes = g.ndata[\"node_feat\"].detach().cpu().numpy()\n",
    "idx = labels_red.index.values\n",
    "nodes_red = edges[idx]\n",
    "labels_red = np.array(labels_red)\n",
    "\n",
    "trans = TSNE(n_components=2)\n",
    "X_trans = trans.fit_transform(nodes_red)\n",
    "\n",
    "fig, ax = plt.subplots(figsize=(7, 7))\n",
    "ax.scatter(\n",
    "    X_trans[:, 0],\n",
    "    X_trans[:, 1],\n",
    "    c=labels_red,\n",
    "    cmap=\"jet\",\n",
    "    alpha=0.7,)\n",
    "ax.set(\n",
    "    aspect=\"equal\",\n",
    "    xlabel=\"$X_1$\",\n",
    "    ylabel=\"$X_2$\",\n",
    "    title=\"Visualization of the nodes in the data set\",)\n",
    "\"\"\""
   ]
  },
  {
   "cell_type": "code",
   "execution_count": 143,
   "metadata": {},
   "outputs": [
    {
     "ename": "SyntaxError",
     "evalue": "(unicode error) 'unicodeescape' codec can't decode bytes in position 26-27: truncated \\UXXXXXXXX escape (<ipython-input-143-f63dc79ec841>, line 2)",
     "output_type": "error",
     "traceback": [
      "\u001b[1;36m  File \u001b[1;32m\"<ipython-input-143-f63dc79ec841>\"\u001b[1;36m, line \u001b[1;32m2\u001b[0m\n\u001b[1;33m    \"\"\"\u001b[0m\n\u001b[1;37m    ^\u001b[0m\n\u001b[1;31mSyntaxError\u001b[0m\u001b[1;31m:\u001b[0m (unicode error) 'unicodeescape' codec can't decode bytes in position 26-27: truncated \\UXXXXXXXX escape\n"
     ]
    }
   ],
   "source": [
    "#edges PaySim\n",
    "\"\"\"\n",
    "edges = pd.read_csv (r\"C:\\Users\\ricka\\Documents\\synthetic_data.csv\")\n",
    "labels = edges[\"isFraud\"]\n",
    "true_labels = labels.loc[labels == 1]\n",
    "false_labels = labels.loc[labels == 0]\n",
    "false_labels_red = false_labels.sample(n=len(true_labels))\n",
    "labels_red = pd.concat([true_labels, false_labels_red])\n",
    "\n",
    "edges = edges.drop([\"type\", \"nameOrig\", \"nameDest\", \"isFraud\", \"isFlaggedFraud\"], axis=1)\n",
    "idx = labels_red.index.values\n",
    "edges_red = edges.iloc[idx]\n",
    "labels_red = np.array(labels_red)\n",
    "\n",
    "trans = TSNE(n_components=2)\n",
    "X_trans = trans.fit_transform(edges_red)\n",
    "\n",
    "fig, ax = plt.subplots(figsize=(7, 7))\n",
    "ax.scatter(\n",
    "    X_trans[:, 0],\n",
    "    X_trans[:, 1],\n",
    "    c=labels_red,\n",
    "    cmap=\"jet\",\n",
    "    alpha=0.7,)\n",
    "ax.set(\n",
    "    aspect=\"equal\",\n",
    "    xlabel=\"$X_1$\",\n",
    "    ylabel=\"$X_2$\",\n",
    "    title=\"Visualization of the edges in the data set\",)\n",
    "#plt.legend([\"Non Fraudulent\", \"Fraudulent\"])\n",
    "#ax.legend(labels_red, [\"Non Fraudulent\", \"Fraudulent\"])\n",
    "\"\"\""
   ]
  }
 ],
 "metadata": {
  "kernelspec": {
   "display_name": "Python 3",
   "language": "python",
   "name": "python3"
  },
  "language_info": {
   "codemirror_mode": {
    "name": "ipython",
    "version": 3
   },
   "file_extension": ".py",
   "mimetype": "text/x-python",
   "name": "python",
   "nbconvert_exporter": "python",
   "pygments_lexer": "ipython3",
   "version": "3.8.5"
  }
 },
 "nbformat": 4,
 "nbformat_minor": 4
}
